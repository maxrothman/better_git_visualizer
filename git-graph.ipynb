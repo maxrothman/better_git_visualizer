{
 "cells": [
  {
   "cell_type": "code",
   "execution_count": 1,
   "metadata": {
    "collapsed": false
   },
   "outputs": [],
   "source": [
    "import networkx as nx\n",
    "import git\n",
    "import matplotlib.pyplot as plt\n",
    "import itertools\n",
    "from tqdm import tqdm, trange"
   ]
  },
  {
   "cell_type": "code",
   "execution_count": null,
   "metadata": {
    "collapsed": false
   },
   "outputs": [],
   "source": [
    "graph = nx.read_adjlist('git.adjlist', create_using=nx.DiGraph())\n",
    "repo = git.Repo('/Users/max/repos/configuration')"
   ]
  },
  {
   "cell_type": "code",
   "execution_count": null,
   "metadata": {
    "collapsed": false
   },
   "outputs": [],
   "source": [
    "for ref in repo.heads:\n",
    "    print(graph[ref.commit.hexsha[:6]])"
   ]
  },
  {
   "cell_type": "code",
   "execution_count": null,
   "metadata": {
    "collapsed": true
   },
   "outputs": [],
   "source": [
    "def commit2node(ref, graph):\n",
    "    return graph[ref.commit.hexsha[:6]]"
   ]
  },
  {
   "cell_type": "code",
   "execution_count": null,
   "metadata": {
    "collapsed": false
   },
   "outputs": [],
   "source": [
    "tips = sorted(repo.heads, key=lambda x: x.commit.committed_date, reverse=True)"
   ]
  },
  {
   "cell_type": "code",
   "execution_count": null,
   "metadata": {
    "collapsed": false
   },
   "outputs": [],
   "source": [
    "SPACER = 'spacer-'\n",
    "\n",
    "import itertools\n",
    "refs = [ref.commit.hexsha[:6] for ref in tips][:1]\n",
    "layers = []\n",
    "seen_refs = set(refs)\n",
    "while refs:\n",
    "    #print('refs: ', refs)\n",
    "    for i, ref in enumerate(refs):\n",
    "        #print('ref {}, index {}'.format(ref, i))\n",
    "        \n",
    "        # dereference if it's a spacer\n",
    "        if ref.startswith(SPACER):\n",
    "            #print('dereferencing')\n",
    "            ref = ref[len(SPACER):]\n",
    "\n",
    "        # if it's a branch point and we haven't discovered all of its parents yet\n",
    "        if graph.in_degree(ref) > 1 and any(parent not in seen_refs for parent in graph.predecessors(ref)):\n",
    "            #print('adding a spacer')\n",
    "            refs[i] = SPACER + ref  #add a spacer with a reference to the actual node\n",
    "            \n",
    "    # At a merge point, multiple parents will add a ref to a layer. This deduplicates them.\n",
    "    in_layer = set()\n",
    "    for i, ref in enumerate(refs):\n",
    "        if ref in in_layer:\n",
    "            #print('found dup {}, removing'.format(ref))\n",
    "            del refs[i]\n",
    "        else:\n",
    "            in_layer.add(ref)\n",
    "            \n",
    "    \n",
    "    layers.append(refs)\n",
    "    seen_refs.update(refs)\n",
    "    \n",
    "    #all parents of tips starting from the left\n",
    "    refs = list(itertools.chain(*[\n",
    "                graph.successors(\n",
    "                    ref[len(SPACER):] if ref.startswith(SPACER) else ref\n",
    "                ) for ref in refs]))\n",
    "    \n",
    "    "
   ]
  },
  {
   "cell_type": "code",
   "execution_count": null,
   "metadata": {
    "collapsed": false,
    "scrolled": true
   },
   "outputs": [],
   "source": [
    "%matplotlib inline\n",
    "print('starting')\n",
    "fig = plt.figure(1, figsize=(10,10))\n",
    "ax = fig.add_subplot(1,1,1)\n",
    "ax.set_xlim(-1,15)\n",
    "ax.set_ylim(-5,21)\n",
    "\n",
    "print('Drawing nodes')\n",
    "for y in range(20):\n",
    "    layer = layers[y]\n",
    "    for x, ref in enumerate(layer):\n",
    "        if x > 15:\n",
    "            break\n",
    "        if not ref.startswith(SPACER):\n",
    "            c = plt.Circle((x,y), radius=.1, color='b')\n",
    "            ax.add_patch(c)\n",
    "\n",
    "print('Drawing lines')\n",
    "for y in range(1,20):\n",
    "    print(y)\n",
    "    #import pdb; pdb.set_trace()\n",
    "    newlayer = layers[y]\n",
    "    oldlayer = layers[y-1]\n",
    "    print(oldlayer, newlayer)\n",
    "    for x2, ref in enumerate(newlayer):\n",
    "        if x2 > 15:\n",
    "            break\n",
    "        print('outer', ref)\n",
    "        print('parents', graph.predecessors(ref if not ref.startswith(SPACER) else ref[len(SPACER):]))\n",
    "        for parent in graph.predecessors(ref if not ref.startswith(SPACER) else ref[len(SPACER):]):\n",
    "            print('inner', parent)\n",
    "            try:\n",
    "                x1 = oldlayer.index(parent)\n",
    "            except ValueError:\n",
    "                x1 = oldlayer.index(SPACER + parent)\n",
    "            l = plt.Line2D((x1, x2), (y-1, y))\n",
    "            ax.add_line(l)\n",
    "\n",
    "plt.show()"
   ]
  },
  {
   "cell_type": "code",
   "execution_count": null,
   "metadata": {
    "collapsed": false
   },
   "outputs": [],
   "source": [
    "graph.predecessors('380f4f')"
   ]
  },
  {
   "cell_type": "code",
   "execution_count": null,
   "metadata": {
    "collapsed": false
   },
   "outputs": [],
   "source": [
    "graph.predecessors('b82a1b')"
   ]
  },
  {
   "cell_type": "code",
   "execution_count": null,
   "metadata": {
    "collapsed": false
   },
   "outputs": [],
   "source": [
    "'merge' in graph"
   ]
  },
  {
   "cell_type": "code",
   "execution_count": null,
   "metadata": {
    "collapsed": true
   },
   "outputs": [],
   "source": [
    "graph2 = nx.DiGraph()\n",
    "foo = graph2.add_node(1)\n",
    "foo"
   ]
  },
  {
   "cell_type": "markdown",
   "metadata": {
    "collapsed": true
   },
   "source": [
    "# Set coordinates directly"
   ]
  },
  {
   "cell_type": "code",
   "execution_count": 82,
   "metadata": {
    "collapsed": false
   },
   "outputs": [],
   "source": [
    "%matplotlib inline\n",
    "graph = nx.read_adjlist('git.adjlist', create_using=nx.DiGraph())\n",
    "repo = git.Repo('/Users/max/repos/configuration')\n",
    "#tips = sorted(repo.heads, key=lambda x: x.commit.committed_date, reverse=True)\n",
    "#tips = [ref.commit.hexsha[:10] for ref in tips][:1]\n",
    "tips = ['f55fad42a1']"
   ]
  },
  {
   "cell_type": "code",
   "execution_count": 98,
   "metadata": {
    "collapsed": false,
    "scrolled": true
   },
   "outputs": [
    {
     "name": "stdout",
     "output_type": "stream",
     "text": [
      "['f55fad42a1']\n",
      "['b25954cb02', '9eabe9efbd']\n",
      "['32ed11f9be', 'a608449994', '63ec76080f']\n",
      "['63ec76080f', 'de64531ebd', 'b3a7dc07de', '63ec76080f']\n",
      "['63ec76080f', 'b3a7dc07de', '63ec76080f']\n",
      "['5b1dbcacd1', 'dec81bd008', 'b3a7dc07de']\n",
      "['5b1dbcacd1', 'b3a7dc07de']\n",
      "['090606a48b', '585441fe0b', 'b3a7dc07de']\n",
      "['a671590ea7', '41b58ec835', 'b3a7dc07de']\n",
      "['a671590ea7', 'b3a7dc07de']\n",
      "['01716f89e0', '53dfdc1295', 'b3a7dc07de']\n",
      "['1565b21bd6', '13b7e0282a', 'b3a7dc07de']\n",
      "['1e8b9b3559', '935a529ff8', 'b3a7dc07de']\n",
      "['1e8b9b3559', 'c36a71cb0c', 'b3a7dc07de']\n",
      "['4c3456e8a8', '43356ce215', 'dc4365c40d', 'b3a7dc07de']\n",
      "['4c3456e8a8', 'e73eca3029', '6b22eae89a', 'b3a7dc07de']\n",
      "['4c3456e8a8', 'e73eca3029', 'b3a7dc07de']\n",
      "['380f4f2ce6', '7abf09c3c6', 'e73eca3029', 'b3a7dc07de']\n",
      "['380f4f2ce6', 'e73eca3029', 'b3a7dc07de']\n",
      "['87a1beaf43', '578f6fef79', 'e73eca3029', 'b3a7dc07de']\n",
      "['87a1beaf43', 'e73eca3029', 'b3a7dc07de']\n",
      "['e73eca3029', '3ca2f8ba2d', 'e73eca3029', 'b3a7dc07de']\n",
      "['e73eca3029', 'e73eca3029', 'b3a7dc07de']\n",
      "['8e00447025', '70d7704f6c', 'b3a7dc07de']\n",
      "['ebfc5215d3', 'd1f00980ad', '13cf1cdfd2', 'b3a7dc07de']\n",
      "['ebfc5215d3', 'b3a7dc07de']\n",
      "['9e9f232cc0', '784165733d', 'b3a7dc07de']\n",
      "['9e9f232cc0', 'b3a7dc07de']\n",
      "['4f8686bd07', 'eb01a99fd1', 'b3a7dc07de']\n",
      "['be8442ee66', 'd061045d79', 'c21deb7392', 'b3a7dc07de']\n",
      "['b3a7dc07de', 'd568e5c81e', '59d3030fa6', 'b3a7dc07de']\n",
      "['b3a7dc07de', '168ecc593e', '46b2ae48ad', 'b3a7dc07de']\n",
      "['59d3030fa6', 'bbc294fa72', 'bad209aca5', '44158404da', '8a20c3b8e5']\n",
      "['168ecc593e', '46b2ae48ad', 'adae6cf39c', '8a80b54131', '50b29fc089', 'a514fb9c9f', '61aea5afc2']\n",
      "['bad209aca5', '44158404da', '8a20c3b8e5', 'adae6cf39c', '452308b1ae', '3fbdd6e1f4', 'a514fb9c9f', 'a514fb9c9f', '79c45d3326', '25e2d06b1f']\n",
      "['8a80b54131', '50b29fc089', 'a514fb9c9f', '61aea5afc2', 'adae6cf39c', '8f03d8611b', '535b806574', '6d715a847e', 'a514fb9c9f', 'a514fb9c9f', '79c45d3326']\n",
      "['452308b1ae', '3fbdd6e1f4', 'a514fb9c9f', 'a514fb9c9f', '79c45d3326', '25e2d06b1f', 'adae6cf39c', '8f03d8611b', '40f470e22c', 'a514fb9c9f', 'a514fb9c9f', 'f4b47dcd67']\n",
      "['8f03d8611b', '535b806574', '6d715a847e', 'a514fb9c9f', 'a514fb9c9f', 'f4b47dcd67', '79c45d3326', 'adae6cf39c', '8f03d8611b', '028332da8b', 'a514fb9c9f', 'a514fb9c9f']\n",
      "['136e3a3695', 'c89ae42753', '8f03d8611b', '40f470e22c', 'a514fb9c9f', 'a514fb9c9f', 'f4b47dcd67', 'adae6cf39c', '8db4c3a6cc', 'a514fb9c9f', 'a514fb9c9f']\n",
      "['136e3a3695', '200fe08f3c', 'c89ae42753', '028332da8b', 'a514fb9c9f', 'a514fb9c9f', '8f03d8611b', 'adae6cf39c', '57063beeff', 'a514fb9c9f', 'a514fb9c9f']\n",
      "['136e3a3695', '48f79b673c', '200fe08f3c', '8db4c3a6cc', 'a514fb9c9f', 'a514fb9c9f', 'c89ae42753', 'adae6cf39c', '243ad1b61a', 'a514fb9c9f', 'a514fb9c9f']\n",
      "['136e3a3695', '779b15f255', '48f79b673c', '57063beeff', 'a514fb9c9f', 'a514fb9c9f', '200fe08f3c', 'adae6cf39c', 'a514fb9c9f', 'a514fb9c9f']\n",
      "['d3880f87cf', 'ec0583442a', 'c5fa75d8a0', '779b15f255', '243ad1b61a', 'a514fb9c9f', 'a514fb9c9f', '48f79b673c', 'adae6cf39c', 'a514fb9c9f', 'a514fb9c9f']\n",
      "['9e41b5472d', 'f67dd483ae', '7ed74e59b9', 'c5fa75d8a0', '136e3a3695', 'a514fb9c9f', 'a514fb9c9f', '779b15f255', 'adae6cf39c', 'a514fb9c9f', 'a514fb9c9f']\n",
      "['9e41b5472d', '878d68a414', '7ed74e59b9', 'd3880f87cf', 'ec0583442a', 'a514fb9c9f', 'a514fb9c9f', 'c5fa75d8a0', 'adae6cf39c', 'a514fb9c9f', 'a514fb9c9f']\n",
      "['a514fb9c9f', '27a93364ec', '87da5200e1', '878d68a414', '9e41b5472d', 'f67dd483ae', 'a514fb9c9f', 'a514fb9c9f', '7ed74e59b9', 'adae6cf39c', 'a514fb9c9f', 'a514fb9c9f']\n",
      "['a514fb9c9f', 'de6b3a9281', '87da5200e1', '27a93364ec', '9e41b5472d', 'a514fb9c9f', 'a514fb9c9f', '878d68a414', 'adae6cf39c', 'a514fb9c9f', 'a514fb9c9f']\n",
      "['ad9f8c128c', 'd7d7839e6e', '648910523b', 'de6b3a9281', 'a514fb9c9f', '27a93364ec', '87da5200e1', 'adae6cf39c']\n",
      "['3c5413d41a', 'e322bba8a4', 'a0cd13c61e', '947eedfe7a', '648910523b', 'ad9f8c128c', 'd7d7839e6e', 'a514fb9c9f', 'de6b3a9281', 'adae6cf39c']\n",
      "['3c5413d41a', 'a0cd13c61e', '947eedfe7a', 'e322bba8a4', 'ad9f8c128c', 'd7d7839e6e', '648910523b', 'adae6cf39c']\n",
      "['b45e52b527', 'e91fd1e5b6', 'a0cd13c61e', '947eedfe7a', '3c5413d41a', 'e322bba8a4', 'adae6cf39c']\n",
      "['b45e52b527', 'a0cd13c61e', '947eedfe7a', 'e91fd1e5b6', '3c5413d41a', 'adae6cf39c']\n",
      "['b45e52b527', 'a0cd13c61e', '947eedfe7a', 'e91fd1e5b6', 'adae6cf39c']\n",
      "['b45e52b527', 'a0cd13c61e', '947eedfe7a', 'adae6cf39c']\n",
      "['b45e52b527', 'a0cd13c61e', '947eedfe7a', 'adae6cf39c']\n",
      "['b45e52b527', 'a0cd13c61e', '947eedfe7a', 'adae6cf39c']\n",
      "['b45e52b527', 'a0cd13c61e', '947eedfe7a', 'adae6cf39c']\n",
      "['b45e52b527', 'a0cd13c61e', '947eedfe7a', 'adae6cf39c']\n",
      "['b45e52b527', 'a0cd13c61e', '947eedfe7a', 'adae6cf39c']\n",
      "['b45e52b527', 'a0cd13c61e', '947eedfe7a', 'adae6cf39c']\n",
      "['b45e52b527', 'a0cd13c61e', '947eedfe7a', 'adae6cf39c']\n",
      "['b45e52b527', 'a0cd13c61e', '947eedfe7a', 'adae6cf39c']\n",
      "['b45e52b527', 'a0cd13c61e', '947eedfe7a', 'adae6cf39c']\n",
      "['b45e52b527', 'a0cd13c61e', '947eedfe7a', 'adae6cf39c']\n",
      "['b45e52b527', 'a0cd13c61e', '947eedfe7a', 'adae6cf39c']\n",
      "['b45e52b527', 'a0cd13c61e', '947eedfe7a', 'adae6cf39c']\n",
      "['b45e52b527', 'a0cd13c61e', '947eedfe7a', 'adae6cf39c']\n",
      "['b45e52b527', 'a0cd13c61e', '947eedfe7a', 'adae6cf39c']\n",
      "['b45e52b527', 'a0cd13c61e', '947eedfe7a', 'adae6cf39c']\n",
      "['b45e52b527', 'a0cd13c61e', '947eedfe7a', 'adae6cf39c']\n",
      "['b45e52b527', 'a0cd13c61e', '947eedfe7a', 'adae6cf39c']\n",
      "['b45e52b527', 'a0cd13c61e', '947eedfe7a', 'adae6cf39c']\n",
      "['b45e52b527', 'a0cd13c61e', '947eedfe7a', 'adae6cf39c']\n",
      "['b45e52b527', 'a0cd13c61e', '947eedfe7a', 'adae6cf39c']\n",
      "['b45e52b527', 'a0cd13c61e', '947eedfe7a', 'adae6cf39c']\n",
      "['b45e52b527', 'a0cd13c61e', '947eedfe7a', 'adae6cf39c']\n",
      "['b45e52b527', 'a0cd13c61e', '947eedfe7a', 'adae6cf39c']\n",
      "['b45e52b527', 'a0cd13c61e', '947eedfe7a', 'adae6cf39c']\n",
      "['b45e52b527', 'a0cd13c61e', '947eedfe7a', 'adae6cf39c']\n",
      "['b45e52b527', 'a0cd13c61e', '947eedfe7a', 'adae6cf39c']\n",
      "['b45e52b527', 'a0cd13c61e', '947eedfe7a', 'adae6cf39c']\n",
      "['b45e52b527', 'a0cd13c61e', '947eedfe7a', 'adae6cf39c']\n",
      "['b45e52b527', 'a0cd13c61e', '947eedfe7a', 'adae6cf39c']\n",
      "['b45e52b527', 'a0cd13c61e', '947eedfe7a', 'adae6cf39c']\n",
      "['b45e52b527', 'a0cd13c61e', '947eedfe7a', 'adae6cf39c']\n",
      "['b45e52b527', 'a0cd13c61e', '947eedfe7a', 'adae6cf39c']\n",
      "['b45e52b527', 'a0cd13c61e', '947eedfe7a', 'adae6cf39c']\n",
      "['b45e52b527', 'a0cd13c61e', '947eedfe7a', 'adae6cf39c']\n",
      "['b45e52b527', 'a0cd13c61e', '947eedfe7a', 'adae6cf39c']\n",
      "['b45e52b527', 'a0cd13c61e', '947eedfe7a', 'adae6cf39c']\n",
      "['b45e52b527', 'a0cd13c61e', '947eedfe7a', 'adae6cf39c']\n",
      "['b45e52b527', 'a0cd13c61e', '947eedfe7a', 'adae6cf39c']\n",
      "['b45e52b527', 'a0cd13c61e', '947eedfe7a', 'adae6cf39c']\n",
      "['b45e52b527', 'a0cd13c61e', '947eedfe7a', 'adae6cf39c']\n",
      "['b45e52b527', 'a0cd13c61e', '947eedfe7a', 'adae6cf39c']\n",
      "['b45e52b527', 'a0cd13c61e', '947eedfe7a', 'adae6cf39c']\n",
      "['b45e52b527', 'a0cd13c61e', '947eedfe7a', 'adae6cf39c']\n",
      "['b45e52b527', 'a0cd13c61e', '947eedfe7a', 'adae6cf39c']\n",
      "['b45e52b527', 'a0cd13c61e', '947eedfe7a', 'adae6cf39c']\n",
      "['b45e52b527', 'a0cd13c61e', '947eedfe7a', 'adae6cf39c']\n",
      "['b45e52b527', 'a0cd13c61e', '947eedfe7a', 'adae6cf39c']\n",
      "['b45e52b527', 'a0cd13c61e', '947eedfe7a', 'adae6cf39c']\n",
      "['b45e52b527', 'a0cd13c61e', '947eedfe7a', 'adae6cf39c']\n",
      "['b45e52b527', 'a0cd13c61e', '947eedfe7a', 'adae6cf39c']\n",
      "['b45e52b527', 'a0cd13c61e', '947eedfe7a', 'adae6cf39c']\n",
      "['b45e52b527', 'a0cd13c61e', '947eedfe7a', 'adae6cf39c']\n",
      "['b45e52b527', 'a0cd13c61e', '947eedfe7a', 'adae6cf39c']\n",
      "['b45e52b527', 'a0cd13c61e', '947eedfe7a', 'adae6cf39c']\n",
      "['b45e52b527', 'a0cd13c61e', '947eedfe7a', 'adae6cf39c']\n",
      "['b45e52b527', 'a0cd13c61e', '947eedfe7a', 'adae6cf39c']\n",
      "['b45e52b527', 'a0cd13c61e', '947eedfe7a', 'adae6cf39c']\n",
      "['b45e52b527', 'a0cd13c61e', '947eedfe7a', 'adae6cf39c']\n",
      "['b45e52b527', 'a0cd13c61e', '947eedfe7a', 'adae6cf39c']\n",
      "['b45e52b527', 'a0cd13c61e', '947eedfe7a', 'adae6cf39c']\n",
      "['b45e52b527', 'a0cd13c61e', '947eedfe7a', 'adae6cf39c']\n",
      "['b45e52b527', 'a0cd13c61e', '947eedfe7a', 'adae6cf39c']\n",
      "['b45e52b527', 'a0cd13c61e', '947eedfe7a', 'adae6cf39c']\n",
      "['b45e52b527', 'a0cd13c61e', '947eedfe7a', 'adae6cf39c']\n",
      "['b45e52b527', 'a0cd13c61e', '947eedfe7a', 'adae6cf39c']\n",
      "['b45e52b527', 'a0cd13c61e', '947eedfe7a', 'adae6cf39c']\n",
      "['b45e52b527', 'a0cd13c61e', '947eedfe7a', 'adae6cf39c']\n",
      "['b45e52b527', 'a0cd13c61e', '947eedfe7a', 'adae6cf39c']\n",
      "['b45e52b527', 'a0cd13c61e', '947eedfe7a', 'adae6cf39c']\n",
      "['b45e52b527', 'a0cd13c61e', '947eedfe7a', 'adae6cf39c']\n",
      "['b45e52b527', 'a0cd13c61e', '947eedfe7a', 'adae6cf39c']\n",
      "['b45e52b527', 'a0cd13c61e', '947eedfe7a', 'adae6cf39c']\n",
      "['b45e52b527', 'a0cd13c61e', '947eedfe7a', 'adae6cf39c']\n",
      "['b45e52b527', 'a0cd13c61e', '947eedfe7a', 'adae6cf39c']\n",
      "['b45e52b527', 'a0cd13c61e', '947eedfe7a', 'adae6cf39c']\n",
      "['b45e52b527', 'a0cd13c61e', '947eedfe7a', 'adae6cf39c']\n",
      "['b45e52b527', 'a0cd13c61e', '947eedfe7a', 'adae6cf39c']\n",
      "['b45e52b527', 'a0cd13c61e', '947eedfe7a', 'adae6cf39c']\n",
      "['b45e52b527', 'a0cd13c61e', '947eedfe7a', 'adae6cf39c']\n",
      "['b45e52b527', 'a0cd13c61e', '947eedfe7a', 'adae6cf39c']\n",
      "['b45e52b527', 'a0cd13c61e', '947eedfe7a', 'adae6cf39c']\n",
      "['b45e52b527', 'a0cd13c61e', '947eedfe7a', 'adae6cf39c']\n",
      "['b45e52b527', 'a0cd13c61e', '947eedfe7a', 'adae6cf39c']\n",
      "['b45e52b527', 'a0cd13c61e', '947eedfe7a', 'adae6cf39c']\n",
      "['b45e52b527', 'a0cd13c61e', '947eedfe7a', 'adae6cf39c']\n",
      "['b45e52b527', 'a0cd13c61e', '947eedfe7a', 'adae6cf39c']\n",
      "['b45e52b527', 'a0cd13c61e', '947eedfe7a', 'adae6cf39c']\n",
      "['b45e52b527', 'a0cd13c61e', '947eedfe7a', 'adae6cf39c']\n",
      "['b45e52b527', 'a0cd13c61e', '947eedfe7a', 'adae6cf39c']\n",
      "['b45e52b527', 'a0cd13c61e', '947eedfe7a', 'adae6cf39c']\n",
      "['b45e52b527', 'a0cd13c61e', '947eedfe7a', 'adae6cf39c']\n",
      "['b45e52b527', 'a0cd13c61e', '947eedfe7a', 'adae6cf39c']\n",
      "['b45e52b527', 'a0cd13c61e', '947eedfe7a', 'adae6cf39c']\n",
      "['b45e52b527', 'a0cd13c61e', '947eedfe7a', 'adae6cf39c']\n",
      "['b45e52b527', 'a0cd13c61e', '947eedfe7a', 'adae6cf39c']\n",
      "['b45e52b527', 'a0cd13c61e', '947eedfe7a', 'adae6cf39c']\n",
      "['b45e52b527', 'a0cd13c61e', '947eedfe7a', 'adae6cf39c']\n",
      "['b45e52b527', 'a0cd13c61e', '947eedfe7a', 'adae6cf39c']\n",
      "['b45e52b527', 'a0cd13c61e', '947eedfe7a', 'adae6cf39c']\n",
      "['b45e52b527', 'a0cd13c61e', '947eedfe7a', 'adae6cf39c']\n",
      "['b45e52b527', 'a0cd13c61e', '947eedfe7a', 'adae6cf39c']\n",
      "['b45e52b527', 'a0cd13c61e', '947eedfe7a', 'adae6cf39c']\n",
      "['b45e52b527', 'a0cd13c61e', '947eedfe7a', 'adae6cf39c']\n",
      "['b45e52b527', 'a0cd13c61e', '947eedfe7a', 'adae6cf39c']\n",
      "['b45e52b527', 'a0cd13c61e', '947eedfe7a', 'adae6cf39c']\n",
      "['b45e52b527', 'a0cd13c61e', '947eedfe7a', 'adae6cf39c']\n",
      "['b45e52b527', 'a0cd13c61e', '947eedfe7a', 'adae6cf39c']\n",
      "['b45e52b527', 'a0cd13c61e', '947eedfe7a', 'adae6cf39c']\n",
      "['b45e52b527', 'a0cd13c61e', '947eedfe7a', 'adae6cf39c']\n",
      "['b45e52b527', 'a0cd13c61e', '947eedfe7a', 'adae6cf39c']\n",
      "['b45e52b527', 'a0cd13c61e', '947eedfe7a', 'adae6cf39c']\n",
      "['b45e52b527', 'a0cd13c61e', '947eedfe7a', 'adae6cf39c']\n",
      "['b45e52b527', 'a0cd13c61e', '947eedfe7a', 'adae6cf39c']\n",
      "['b45e52b527', 'a0cd13c61e', '947eedfe7a', 'adae6cf39c']\n",
      "['b45e52b527', 'a0cd13c61e', '947eedfe7a', 'adae6cf39c']\n",
      "['b45e52b527', 'a0cd13c61e', '947eedfe7a', 'adae6cf39c']\n",
      "['b45e52b527', 'a0cd13c61e', '947eedfe7a', 'adae6cf39c']\n",
      "['b45e52b527', 'a0cd13c61e', '947eedfe7a', 'adae6cf39c']\n",
      "['b45e52b527', 'a0cd13c61e', '947eedfe7a', 'adae6cf39c']\n",
      "['b45e52b527', 'a0cd13c61e', '947eedfe7a', 'adae6cf39c']\n",
      "['b45e52b527', 'a0cd13c61e', '947eedfe7a', 'adae6cf39c']\n",
      "['b45e52b527', 'a0cd13c61e', '947eedfe7a', 'adae6cf39c']\n",
      "['b45e52b527', 'a0cd13c61e', '947eedfe7a', 'adae6cf39c']\n",
      "['b45e52b527', 'a0cd13c61e', '947eedfe7a', 'adae6cf39c']\n",
      "['b45e52b527', 'a0cd13c61e', '947eedfe7a', 'adae6cf39c']\n",
      "['b45e52b527', 'a0cd13c61e', '947eedfe7a', 'adae6cf39c']\n",
      "['b45e52b527', 'a0cd13c61e', '947eedfe7a', 'adae6cf39c']\n",
      "['b45e52b527', 'a0cd13c61e', '947eedfe7a', 'adae6cf39c']\n",
      "['b45e52b527', 'a0cd13c61e', '947eedfe7a', 'adae6cf39c']\n",
      "['b45e52b527', 'a0cd13c61e', '947eedfe7a', 'adae6cf39c']\n",
      "['b45e52b527', 'a0cd13c61e', '947eedfe7a', 'adae6cf39c']\n",
      "['b45e52b527', 'a0cd13c61e', '947eedfe7a', 'adae6cf39c']\n",
      "['b45e52b527', 'a0cd13c61e', '947eedfe7a', 'adae6cf39c']\n",
      "['b45e52b527', 'a0cd13c61e', '947eedfe7a', 'adae6cf39c']\n",
      "['b45e52b527', 'a0cd13c61e', '947eedfe7a', 'adae6cf39c']\n",
      "['b45e52b527', 'a0cd13c61e', '947eedfe7a', 'adae6cf39c']\n",
      "['b45e52b527', 'a0cd13c61e', '947eedfe7a', 'adae6cf39c']\n",
      "['b45e52b527', 'a0cd13c61e', '947eedfe7a', 'adae6cf39c']\n",
      "['b45e52b527', 'a0cd13c61e', '947eedfe7a', 'adae6cf39c']\n",
      "['b45e52b527', 'a0cd13c61e', '947eedfe7a', 'adae6cf39c']\n",
      "['b45e52b527', 'a0cd13c61e', '947eedfe7a', 'adae6cf39c']\n",
      "['b45e52b527', 'a0cd13c61e', '947eedfe7a', 'adae6cf39c']\n",
      "['b45e52b527', 'a0cd13c61e', '947eedfe7a', 'adae6cf39c']\n",
      "['b45e52b527', 'a0cd13c61e', '947eedfe7a', 'adae6cf39c']\n",
      "['b45e52b527', 'a0cd13c61e', '947eedfe7a', 'adae6cf39c']\n",
      "['b45e52b527', 'a0cd13c61e', '947eedfe7a', 'adae6cf39c']\n",
      "['b45e52b527', 'a0cd13c61e', '947eedfe7a', 'adae6cf39c']\n",
      "['b45e52b527', 'a0cd13c61e', '947eedfe7a', 'adae6cf39c']\n",
      "['b45e52b527', 'a0cd13c61e', '947eedfe7a', 'adae6cf39c']\n",
      "['b45e52b527', 'a0cd13c61e', '947eedfe7a', 'adae6cf39c']\n",
      "['b45e52b527', 'a0cd13c61e', '947eedfe7a', 'adae6cf39c']\n",
      "['b45e52b527', 'a0cd13c61e', '947eedfe7a', 'adae6cf39c']\n",
      "['b45e52b527', 'a0cd13c61e', '947eedfe7a', 'adae6cf39c']\n",
      "['b45e52b527', 'a0cd13c61e', '947eedfe7a', 'adae6cf39c']\n",
      "['b45e52b527', 'a0cd13c61e', '947eedfe7a', 'adae6cf39c']\n",
      "['b45e52b527', 'a0cd13c61e', '947eedfe7a', 'adae6cf39c']\n",
      "['b45e52b527', 'a0cd13c61e', '947eedfe7a', 'adae6cf39c']\n",
      "['b45e52b527', 'a0cd13c61e', '947eedfe7a', 'adae6cf39c']\n",
      "['b45e52b527', 'a0cd13c61e', '947eedfe7a', 'adae6cf39c']\n",
      "['b45e52b527', 'a0cd13c61e', '947eedfe7a', 'adae6cf39c']\n",
      "['b45e52b527', 'a0cd13c61e', '947eedfe7a', 'adae6cf39c']\n",
      "['b45e52b527', 'a0cd13c61e', '947eedfe7a', 'adae6cf39c']\n",
      "['b45e52b527', 'a0cd13c61e', '947eedfe7a', 'adae6cf39c']\n",
      "['b45e52b527', 'a0cd13c61e', '947eedfe7a', 'adae6cf39c']\n",
      "['b45e52b527', 'a0cd13c61e', '947eedfe7a', 'adae6cf39c']\n",
      "['b45e52b527', 'a0cd13c61e', '947eedfe7a', 'adae6cf39c']\n",
      "['b45e52b527', 'a0cd13c61e', '947eedfe7a', 'adae6cf39c']\n",
      "['b45e52b527', 'a0cd13c61e', '947eedfe7a', 'adae6cf39c']\n",
      "['b45e52b527', 'a0cd13c61e', '947eedfe7a', 'adae6cf39c']\n",
      "['b45e52b527', 'a0cd13c61e', '947eedfe7a', 'adae6cf39c']\n",
      "['b45e52b527', 'a0cd13c61e', '947eedfe7a', 'adae6cf39c']\n",
      "['b45e52b527', 'a0cd13c61e', '947eedfe7a', 'adae6cf39c']\n",
      "['b45e52b527', 'a0cd13c61e', '947eedfe7a', 'adae6cf39c']\n",
      "['b45e52b527', 'a0cd13c61e', '947eedfe7a', 'adae6cf39c']\n",
      "['b45e52b527', 'a0cd13c61e', '947eedfe7a', 'adae6cf39c']\n",
      "['b45e52b527', 'a0cd13c61e', '947eedfe7a', 'adae6cf39c']\n",
      "['b45e52b527', 'a0cd13c61e', '947eedfe7a', 'adae6cf39c']\n",
      "['b45e52b527', 'a0cd13c61e', '947eedfe7a', 'adae6cf39c']\n",
      "['b45e52b527', 'a0cd13c61e', '947eedfe7a', 'adae6cf39c']\n",
      "['b45e52b527', 'a0cd13c61e', '947eedfe7a', 'adae6cf39c']\n",
      "['b45e52b527', 'a0cd13c61e', '947eedfe7a', 'adae6cf39c']\n",
      "['b45e52b527', 'a0cd13c61e', '947eedfe7a', 'adae6cf39c']\n",
      "['b45e52b527', 'a0cd13c61e', '947eedfe7a', 'adae6cf39c']\n",
      "['b45e52b527', 'a0cd13c61e', '947eedfe7a', 'adae6cf39c']\n",
      "['b45e52b527', 'a0cd13c61e', '947eedfe7a', 'adae6cf39c']\n",
      "['b45e52b527', 'a0cd13c61e', '947eedfe7a', 'adae6cf39c']\n",
      "['b45e52b527', 'a0cd13c61e', '947eedfe7a', 'adae6cf39c']\n",
      "['b45e52b527', 'a0cd13c61e', '947eedfe7a', 'adae6cf39c']\n",
      "['b45e52b527', 'a0cd13c61e', '947eedfe7a', 'adae6cf39c']\n",
      "['b45e52b527', 'a0cd13c61e', '947eedfe7a', 'adae6cf39c']\n",
      "['b45e52b527', 'a0cd13c61e', '947eedfe7a', 'adae6cf39c']\n",
      "['b45e52b527', 'a0cd13c61e', '947eedfe7a', 'adae6cf39c']\n",
      "['b45e52b527', 'a0cd13c61e', '947eedfe7a', 'adae6cf39c']\n",
      "['b45e52b527', 'a0cd13c61e', '947eedfe7a', 'adae6cf39c']\n",
      "['b45e52b527', 'a0cd13c61e', '947eedfe7a', 'adae6cf39c']\n",
      "['b45e52b527', 'a0cd13c61e', '947eedfe7a', 'adae6cf39c']\n",
      "['b45e52b527', 'a0cd13c61e', '947eedfe7a', 'adae6cf39c']\n",
      "['b45e52b527', 'a0cd13c61e', '947eedfe7a', 'adae6cf39c']\n",
      "['b45e52b527', 'a0cd13c61e', '947eedfe7a', 'adae6cf39c']\n",
      "['b45e52b527', 'a0cd13c61e', '947eedfe7a', 'adae6cf39c']\n",
      "['b45e52b527', 'a0cd13c61e', '947eedfe7a', 'adae6cf39c']\n",
      "['b45e52b527', 'a0cd13c61e', '947eedfe7a', 'adae6cf39c']\n",
      "['b45e52b527', 'a0cd13c61e', '947eedfe7a', 'adae6cf39c']\n",
      "['b45e52b527', 'a0cd13c61e', '947eedfe7a', 'adae6cf39c']\n",
      "['b45e52b527', 'a0cd13c61e', '947eedfe7a', 'adae6cf39c']\n",
      "['b45e52b527', 'a0cd13c61e', '947eedfe7a', 'adae6cf39c']\n",
      "['b45e52b527', 'a0cd13c61e', '947eedfe7a', 'adae6cf39c']\n",
      "['b45e52b527', 'a0cd13c61e', '947eedfe7a', 'adae6cf39c']\n",
      "['b45e52b527', 'a0cd13c61e', '947eedfe7a', 'adae6cf39c']\n",
      "['b45e52b527', 'a0cd13c61e', '947eedfe7a', 'adae6cf39c']\n",
      "['b45e52b527', 'a0cd13c61e', '947eedfe7a', 'adae6cf39c']\n",
      "['b45e52b527', 'a0cd13c61e', '947eedfe7a', 'adae6cf39c']\n",
      "['b45e52b527', 'a0cd13c61e', '947eedfe7a', 'adae6cf39c']\n",
      "['b45e52b527', 'a0cd13c61e', '947eedfe7a', 'adae6cf39c']\n",
      "['b45e52b527', 'a0cd13c61e', '947eedfe7a', 'adae6cf39c']\n",
      "['b45e52b527', 'a0cd13c61e', '947eedfe7a', 'adae6cf39c']\n",
      "['b45e52b527', 'a0cd13c61e', '947eedfe7a', 'adae6cf39c']\n",
      "['b45e52b527', 'a0cd13c61e', '947eedfe7a', 'adae6cf39c']\n",
      "['b45e52b527', 'a0cd13c61e', '947eedfe7a', 'adae6cf39c']\n",
      "['b45e52b527', 'a0cd13c61e', '947eedfe7a', 'adae6cf39c']\n",
      "['b45e52b527', 'a0cd13c61e', '947eedfe7a', 'adae6cf39c']\n",
      "['b45e52b527', 'a0cd13c61e', '947eedfe7a', 'adae6cf39c']\n",
      "['b45e52b527', 'a0cd13c61e', '947eedfe7a', 'adae6cf39c']\n",
      "['b45e52b527', 'a0cd13c61e', '947eedfe7a', 'adae6cf39c']\n",
      "['b45e52b527', 'a0cd13c61e', '947eedfe7a', 'adae6cf39c']\n",
      "['b45e52b527', 'a0cd13c61e', '947eedfe7a', 'adae6cf39c']\n",
      "['b45e52b527', 'a0cd13c61e', '947eedfe7a', 'adae6cf39c']\n",
      "['b45e52b527', 'a0cd13c61e', '947eedfe7a', 'adae6cf39c']\n",
      "['b45e52b527', 'a0cd13c61e', '947eedfe7a', 'adae6cf39c']\n",
      "['b45e52b527', 'a0cd13c61e', '947eedfe7a', 'adae6cf39c']\n",
      "['b45e52b527', 'a0cd13c61e', '947eedfe7a', 'adae6cf39c']\n",
      "['b45e52b527', 'a0cd13c61e', '947eedfe7a', 'adae6cf39c']\n",
      "['b45e52b527', 'a0cd13c61e', '947eedfe7a', 'adae6cf39c']\n",
      "['b45e52b527', 'a0cd13c61e', '947eedfe7a', 'adae6cf39c']\n",
      "['b45e52b527', 'a0cd13c61e', '947eedfe7a', 'adae6cf39c']\n",
      "['b45e52b527', 'a0cd13c61e', '947eedfe7a', 'adae6cf39c']\n",
      "['b45e52b527', 'a0cd13c61e', '947eedfe7a', 'adae6cf39c']\n",
      "['b45e52b527', 'a0cd13c61e', '947eedfe7a', 'adae6cf39c']\n",
      "['b45e52b527', 'a0cd13c61e', '947eedfe7a', 'adae6cf39c']\n",
      "['b45e52b527', 'a0cd13c61e', '947eedfe7a', 'adae6cf39c']\n",
      "['b45e52b527', 'a0cd13c61e', '947eedfe7a', 'adae6cf39c']\n",
      "['b45e52b527', 'a0cd13c61e', '947eedfe7a', 'adae6cf39c']\n",
      "['b45e52b527', 'a0cd13c61e', '947eedfe7a', 'adae6cf39c']\n",
      "['b45e52b527', 'a0cd13c61e', '947eedfe7a', 'adae6cf39c']\n",
      "['b45e52b527', 'a0cd13c61e', '947eedfe7a', 'adae6cf39c']\n",
      "['b45e52b527', 'a0cd13c61e', '947eedfe7a', 'adae6cf39c']\n"
     ]
    }
   ],
   "source": [
    "seen_refs = set(tips)\n",
    "refs = tips\n",
    "\n",
    "#while refs:\n",
    "#print ('working', end=' ')\n",
    "for i in range(300):\n",
    "    print(refs)\n",
    "    #if i%5 == 0: print(str(i/5), end=' ')\n",
    "    new_refs = []\n",
    "#     if 'adae6c' in refs:\n",
    "#         import pdb; pdb.set_trace()\n",
    "    for j, ref in enumerate(refs):\n",
    "        # if it's a branch point and we haven't discovered all of its parents yet\n",
    "        if graph.in_degree(ref) > 1 and any(parent not in seen_refs for parent in graph.predecessors(ref)):\n",
    "            #defer\n",
    "            new_refs.append(ref)\n",
    "        else:\n",
    "            # Assign x,y coords\n",
    "            # At a merge point, multiple parents will add the same ref to refs multiple times.\n",
    "            # Since merges always go to the left and we iterate left-to-right,\n",
    "            # if coords are already set, do nothing.\n",
    "            if 'x' not in graph.node[ref] and 'y' not in graph.node[ref]:\n",
    "                graph.node[ref]['x'], graph.node[ref]['y'] = j, i\n",
    "\n",
    "            #add it to the next round. Use gitpython so parents end up in the right order\n",
    "            for parent in repo.commit(ref).parents:\n",
    "                #make sure not to add parents to new_refs if they're already there\n",
    "                # This could happen at a branch point, since several refs point to the same parent\n",
    "                if parent.hexsha[:10] not in new_refs:\n",
    "                    new_refs.append(parent.hexsha[:10])\n",
    "        #print(ref, graph.node[ref])\n",
    "    \n",
    "    seen_refs.update(refs)\n",
    "    refs = new_refs"
   ]
  },
  {
   "cell_type": "code",
   "execution_count": 99,
   "metadata": {
    "collapsed": false
   },
   "outputs": [
    {
     "name": "stderr",
     "output_type": "stream",
     "text": []
    },
    {
     "data": {
      "image/png": "[encoded data removed]",
      "text/plain": [
       "<matplotlib.figure.Figure at 0x11e3edd68>"
      ]
     },
     "metadata": {},
     "output_type": "display_data"
    }
   ],
   "source": [
    "from time import time\n",
    "timings = []\n",
    "\n",
    "fig = plt.figure(1, figsize=(10,10))\n",
    "ax = fig.add_subplot(1,1,1)\n",
    "ax.set_xlim(-1,20)\n",
    "ax.set_ylim(-1,100)\n",
    "\n",
    "def draw():\n",
    "    refs = tips\n",
    "    for i in trange(300):\n",
    "        for j, ref in enumerate(refs):\n",
    "    #         print(ref, graph.node[ref])\n",
    "            if all(c in graph.node[ref] for c in ('x', 'y')):\n",
    "                start = time()\n",
    "                c = plt.Circle((graph.node[ref]['x'], graph.node[ref]['y']), radius=.1, color='b')\n",
    "                duration = time() - start\n",
    "                timings.append({'type': 'makecircle', 'desc': '{},{}'.format(graph.node[ref]['x'], graph.node[ref]['y']), 'time': duration})\n",
    "\n",
    "                start = time()\n",
    "                ax.add_patch(c)\n",
    "                duration = time() - start\n",
    "                timings.append({'type': 'addcircle', 'desc': '{},{}'.format(graph.node[ref]['x'], graph.node[ref]['y']), 'time': duration})\n",
    "\n",
    "                for child in graph.successors(ref):\n",
    "                    if all(c in graph.node[child] for c in ('x', 'y')):\n",
    "                        #print(ref, graph.node[ref], child, graph.node[child])\n",
    "                        start = time()\n",
    "                        l = plt.Line2D((graph.node[ref]['x'], graph.node[child]['x']),(graph.node[ref]['y'], graph.node[child]['y']))\n",
    "                        duration = time() - start\n",
    "                        timings.append({'type': 'makeline', 'desc': '{},{} -> {},{}'.format(\n",
    "                            graph.node[ref]['x'], graph.node[ref]['y'],\n",
    "                            graph.node[child]['x'], graph.node[child]['y']\n",
    "                        ), 'time': duration})\n",
    "                        \n",
    "                        start = time()\n",
    "                        ax.add_line(l)\n",
    "                        duration = time() - start\n",
    "                        timings.append({'type': 'addline', 'desc': '{},{} -> {},{}'.format(\n",
    "                            graph.node[ref]['x'], graph.node[ref]['y'],\n",
    "                            graph.node[child]['x'], graph.node[child]['y']\n",
    "                        ), 'time': duration})\n",
    "        start = time()\n",
    "        # Dedup again, for same reasons as above\n",
    "        #TODO: make sure we don't re-traverse nodes by arriving to them by different paths\n",
    "        #keep a set of \"seen\" nodes and don't add things to the next round if they're in it\n",
    "        refs = set(p.hexsha[:10] for r in refs for p in repo.commit(r).parents)\n",
    "        duration = time() - start\n",
    "        timings.append({'type': 'parents', 'desc': refs, 'time': duration})\n",
    "draw()"
   ]
  },
  {
   "cell_type": "code",
   "execution_count": 100,
   "metadata": {
    "collapsed": false
   },
   "outputs": [
    {
     "data": {
      "image/png": "[encoded data removed]",
      "text/plain": [
       "<matplotlib.figure.Figure at 0x11e3edd68>"
      ]
     },
     "execution_count": 100,
     "metadata": {},
     "output_type": "execute_result"
    }
   ],
   "source": [
    "%matplotlib inline\n",
    "ax.set_xlim(-1,15)\n",
    "ax.set_ylim(-1,60)\n",
    "fig"
   ]
  },
  {
   "cell_type": "code",
   "execution_count": 14,
   "metadata": {
    "collapsed": false
   },
   "outputs": [
    {
     "data": {
      "text/plain": [
       "[('168ecc', {'x': 0, 'y': 17}),\n",
       " ('46b2ae', {'x': 1, 'y': 17}),\n",
       " ('adae6c', {}),\n",
       " ('bad209', {'x': 0, 'y': 18}),\n",
       " ('441584', {'x': 1, 'y': 18}),\n",
       " ('8a20c3', {'x': 2, 'y': 18})]"
      ]
     },
     "execution_count": 14,
     "metadata": {},
     "output_type": "execute_result"
    }
   ],
   "source": [
    "[(p, graph.node[p]) for p in ['168ecc', '46b2ae', 'adae6c', 'bad209', '441584', '8a20c3']]"
   ]
  },
  {
   "cell_type": "code",
   "execution_count": 9,
   "metadata": {
    "collapsed": false
   },
   "outputs": [
    {
     "data": {
      "text/plain": [
       "(<git.Commit \"380f4f2ce67bb573cad5cfbd4458a591e5b23833\">,\n",
       " <git.Commit \"7abf09c3c6b664290c7a2081cf519e81d534d37e\">)"
      ]
     },
     "execution_count": 9,
     "metadata": {},
     "output_type": "execute_result"
    }
   ],
   "source": [
    "repo.commit(tips[0]).parents"
   ]
  },
  {
   "cell_type": "code",
   "execution_count": 13,
   "metadata": {
    "collapsed": false
   },
   "outputs": [
    {
     "data": {
      "text/plain": [
       "['380f4f', '7abf09']"
      ]
     },
     "execution_count": 13,
     "metadata": {},
     "output_type": "execute_result"
    }
   ],
   "source": [
    "[p.hexsha[:10] for r in refs for p in repo.commit(r).parents]"
   ]
  },
  {
   "cell_type": "code",
   "execution_count": 70,
   "metadata": {
    "collapsed": false
   },
   "outputs": [
    {
     "data": {
      "image/png": "[encoded data removed]",
      "text/plain": [
       "<matplotlib.figure.Figure at 0x13b531c18>"
      ]
     },
     "metadata": {},
     "output_type": "display_data"
    }
   ],
   "source": [
    "trash = plt.plot(*zip(*enumerate(len(t['desc']) for t in timings if t['type'] == 'parents')), 'ro')"
   ]
  },
  {
   "cell_type": "code",
   "execution_count": 73,
   "metadata": {
    "collapsed": false,
    "scrolled": false
   },
   "outputs": [
    {
     "name": "stdout",
     "output_type": "stream",
     "text": [
      "d3880f ['9e41b5', 'f67dd4']\n",
      "98184d ['ff9338', '823fed']\n",
      "9e41b5 ['a514fb', '27a933']\n",
      "adae6c ['43e2f6', '5a80d2']\n",
      "43e2f6 ['312ff0', '48fd55']\n",
      "a514fb ['ad9f8c', 'd7d783']\n",
      "4d6e5f ['a0cd13']\n",
      "452308 ['8f03d8', '535b80']\n",
      "57063b ['243ad1']\n",
      "d938e9 ['4117ae', '20af2b']\n",
      "ff9338 ['2bda84', '61bb7f']\n",
      "27478c ['adae6c']\n",
      "b45e52 ['a0cd13', '4d6e5f']\n",
      "de2d23 ['d21368']\n",
      "8bc98d ['c4f7a2']\n",
      "186bf9 ['947eed', 'a2ab9b']\n",
      "b68dfc ['70561b']\n",
      "3fbdd6 ['6d715a']\n",
      "41f4aa ['19e012']\n",
      "ecb949 ['f743f1', '2c3f04']\n",
      "a0cd13 ['d21368', 'de2d23']\n",
      "1627d0 ['7345f9']\n",
      "31df86 ['9fe08b']\n",
      "ad9f8c ['3c5413', 'e322bb']\n",
      "7ed74e ['878d68']\n",
      "72a5d9 ['6e59c5']\n",
      "a2ab9b ['947eed']\n",
      "d002a9 ['985215']\n",
      "c89ae4 ['200fe0']\n",
      "823fed ['ff9338']\n",
      "136e3a ['d3880f', 'ec0583']\n",
      "028332 ['8db4c3']\n",
      "d21368 ['0122c6', '6dcde7']\n",
      "48f79b ['779b15']\n",
      "27a933 ['a514fb']\n",
      "20af2b ['ecb949']\n",
      "f67dd4 ['9e41b5']\n",
      "f4b47d ['8f03d8']\n",
      "30bac9 ['d3bb7c', '062f52']\n",
      "432fd7 ['98184d', '27478c']\n",
      "19e012 ['70e779']\n",
      "6d715a ['40f470']\n",
      "8f03d8 ['136e3a', 'c89ae4']\n",
      "6dcde7 ['0122c6']\n",
      "4117ae ['ecb949', '1627d0']\n",
      "8db4c3 ['57063b']\n",
      "535b80 ['8f03d8']\n",
      "9fe08b ['985215']\n",
      "665188 ['985215']\n",
      "5a80d2 ['9a024a']\n",
      "062f52 ['d3bb7c']\n",
      "e91fd1 ['b45e52']\n",
      "c4f7a2 ['985215']\n",
      "70561b ['33ae37']\n",
      "0122c6 ['432fd7', '846c7f']\n",
      "d93440 ['d938e9', '33ae37']\n",
      "25e2d0 ['79c45d']\n",
      "d7d783 ['a0cd13']\n",
      "70e779 ['8bc98d']\n",
      "985215 ['186bf9', '0b12c0']\n",
      "200fe0 ['48f79b']\n",
      "779b15 ['c5fa75']\n",
      "2bda84 ['abd9ae', '910de8']\n",
      "d3bb7c ['7f4a8d', '4a375d']\n",
      "79c45d ['f4b47d']\n",
      "3c5413 ['b45e52', 'e91fd1']\n",
      "33ae37 ['30bac9']\n",
      "846c7f ['665188']\n",
      "947eed ['d93440', 'b68dfc']\n",
      "40f470 ['028332']\n",
      "0b12c0 ['947eed']\n",
      "c5fa75 ['7ed74e']\n",
      "6e59c5 ['41f4aa']\n",
      "ec0583 ['9e41b5']\n",
      "61bb7f ['2bda84']\n",
      "e322bb ['3c5413']\n",
      "243ad1 ['136e3a']\n"
     ]
    }
   ],
   "source": [
    "refs = sorted((t['desc'] for t in timings if t['type'] == 'parents'), key=len)[-1]\n",
    "assert len(refs) == len(set(refs))\n",
    "for ref in refs:\n",
    "    print(ref, [p.hexsha[:10] for p in repo.commit(ref).parents])"
   ]
  },
  {
   "cell_type": "code",
   "execution_count": null,
   "metadata": {
    "collapsed": true
   },
   "outputs": [],
   "source": []
  }
 ],
 "metadata": {
  "kernelspec": {
   "display_name": "Python 2",
   "language": "python",
   "name": "python2"
  },
  "language_info": {
   "codemirror_mode": {
    "name": "ipython",
    "version": 2
   },
   "file_extension": ".py",
   "mimetype": "text/x-python",
   "name": "python",
   "nbconvert_exporter": "python",
   "pygments_lexer": "ipython2",
   "version": "2.7.5"
  }
 },
 "nbformat": 4,
 "nbformat_minor": 0
}
