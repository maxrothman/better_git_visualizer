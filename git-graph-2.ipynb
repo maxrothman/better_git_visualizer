{
 "cells": [
  {
   "cell_type": "code",
   "execution_count": 1,
   "metadata": {
    "collapsed": true
   },
   "outputs": [],
   "source": [
    "import git"
   ]
  },
  {
   "cell_type": "code",
   "execution_count": 2,
   "metadata": {
    "collapsed": false
   },
   "outputs": [],
   "source": [
    "class Node(object):\n",
    "    def __init__(self, commit):\n",
    "        self.commit = commit\n",
    "        assert 1 <= len(commit.parents) <= 2\n",
    "        self.parents = commit.parents\n",
    "        self.hash = commit.hexsha\n",
    "        \n",
    "\n",
    "class Graph(object):\n",
    "    def __init__(self, nodes):\n",
    "        self.nodes = {node.hash: node for node in nodes}\n",
    "    def add_node(self, commit):\n",
    "        node = Node(commit)\n",
    "        if node.hash in self.nodes:\n",
    "            raise AttributeError(\"Commit {} is already in the graph\".format(hash))\n",
    "        self.nodes[node.hash] = node\n",
    "        return node"
   ]
  },
  {
   "cell_type": "code",
   "execution_count": 26,
   "metadata": {
    "collapsed": false,
    "scrolled": true
   },
   "outputs": [],
   "source": [
    "repo = git.Repo('/Users/max/repos/configuration')\n",
    "graph = Graph([])\n",
    "commit = repo.refs.master.commit\n",
    "node = graph.add_node(commit)\n",
    "stack = [node]\n",
    "visited = []\n",
    "done = False\n",
    "while stack:\n",
    "    if done: break\n",
    "    node = stack.pop()\n",
    "    for _ in range(10):\n",
    "        visited.append(node)\n",
    "        parent = node.parents[0]\n",
    "        if parent.hexsha in graph.nodes:\n",
    "            break\n",
    "        elif len(node.parents) > 1:\n",
    "            # We want the leftmost parent at the top of the stack\n",
    "            stack += [graph.add_node(p) for p in node.parents[1:] if p.hexsha not in graph.nodes]\n",
    "        elif len(parent.parents) == 0:\n",
    "            done = True\n",
    "            break\n",
    "        \n",
    "        node = graph.add_node(parent)"
   ]
  },
  {
   "cell_type": "code",
   "execution_count": 29,
   "metadata": {
    "collapsed": false
   },
   "outputs": [
    {
     "data": {
      "text/plain": [
       "[u'8362d9276b2990b33f373f4cf37bb5848d133af1',\n",
       " u'a9d585da8ab30f491f405b493aac1605beb6e8ef',\n",
       " u'0a3c119c59648d76f64db790755164d11b14cd07',\n",
       " u'3f64778385ec07d9ce14de9a0119f309b503ad9c',\n",
       " u'de7d5e400c54abbabaf35dd1547c793b88ba06a2',\n",
       " u'7c370ea133853655c65c4fb7a2ffbff64c03885e',\n",
       " u'c04bba44219bc8e597b5d700320a28ad9f749140',\n",
       " u'a44fc1c887afe82b4b0f5ced9b67fa405087020c',\n",
       " u'4ac2fed89cf82b0e7f2674cd565d8764f84c852f',\n",
       " u'6f549fe6a0ae69a95560ebf52fa3d66a5fc2ccb4',\n",
       " u'b9c57a214cc687c63dfb874461c9196b3ee5ed6c',\n",
       " u'2885f707c6322a36d15101a7d52682ecbbd7c1be',\n",
       " u'ff6039cdc294553da5430ad34c74540ab0fb08f5',\n",
       " u'1a1172ffd8ea7c30c5f962390cdd80d50ba3bf60',\n",
       " u'2fea6a169f26153d9f33ac018cc4cdbb4b6950e9',\n",
       " u'16691e37f52267953c4534cbbefeb1f2aadae2aa',\n",
       " u'72422bb7b39dc1e0fd7432eb9fa0fdcffb9c6c68',\n",
       " u'000af8ca932bfccb44dd201b3cef40cae9adecbf',\n",
       " u'a6dac0e1efa34cca6973c874cef07596aa8f933f',\n",
       " u'ed5c788ebfc983d0ff2b0273e4c276c2419e695d']"
      ]
     },
     "execution_count": 29,
     "metadata": {},
     "output_type": "execute_result"
    }
   ],
   "source": [
    "[v.hash for v in visited[:20]]"
   ]
  },
  {
   "cell_type": "code",
   "execution_count": null,
   "metadata": {
    "collapsed": true
   },
   "outputs": [],
   "source": []
  }
 ],
 "metadata": {
  "kernelspec": {
   "display_name": "Python 2",
   "language": "python",
   "name": "python2"
  },
  "language_info": {
   "codemirror_mode": {
    "name": "ipython",
    "version": 2
   },
   "file_extension": ".py",
   "mimetype": "text/x-python",
   "name": "python",
   "nbconvert_exporter": "python",
   "pygments_lexer": "ipython2",
   "version": "2.7.5"
  }
 },
 "nbformat": 4,
 "nbformat_minor": 0
}
